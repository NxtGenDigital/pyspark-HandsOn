{
  "nbformat": 4,
  "nbformat_minor": 0,
  "metadata": {
    "colab": {
      "name": "Spark_Transformations_and_Actions_Part_2.ipynb",
      "provenance": [],
      "collapsed_sections": []
    },
    "kernelspec": {
      "name": "python3",
      "display_name": "Python 3"
    }
  },
  "cells": [
    {
      "cell_type": "code",
      "metadata": {
        "id": "H69GTOnauQHn",
        "colab_type": "code",
        "colab": {}
      },
      "source": [
        "!apt-get install openjdk-8-jdk-headless -qq > /dev/null\n",
        "!wget -q https://downloads.apache.org/spark/spark-3.0.0-preview2/spark-3.0.0-preview2-bin-hadoop2.7.tgz\n",
        "!tar xf spark-3.0.0-preview2-bin-hadoop2.7.tgz\n",
        "!pip install -q findspark"
      ],
      "execution_count": 0,
      "outputs": []
    },
    {
      "cell_type": "code",
      "metadata": {
        "id": "sZbwVQ6tugV2",
        "colab_type": "code",
        "colab": {
          "base_uri": "https://localhost:8080/",
          "height": 50
        },
        "outputId": "b0f35c39-e647-4fac-a8e2-0c151ec381c0"
      },
      "source": [
        "!ls /usr/lib/jvm/"
      ],
      "execution_count": 2,
      "outputs": [
        {
          "output_type": "stream",
          "text": [
            "default-java\t\t   java-11-openjdk-amd64     java-8-openjdk-amd64\n",
            "java-1.11.0-openjdk-amd64  java-1.8.0-openjdk-amd64\n"
          ],
          "name": "stdout"
        }
      ]
    },
    {
      "cell_type": "code",
      "metadata": {
        "id": "pokPIgOyujjO",
        "colab_type": "code",
        "colab": {}
      },
      "source": [
        "import os\n",
        "os.environ[\"JAVA_HOME\"] = \"/usr/lib/jvm/java-8-openjdk-amd64\"\n",
        "os.environ[\"SPARK_HOME\"] = \"/content/spark-3.0.0-preview2-bin-hadoop2.7\""
      ],
      "execution_count": 0,
      "outputs": []
    },
    {
      "cell_type": "code",
      "metadata": {
        "id": "Lj7gVm78umSc",
        "colab_type": "code",
        "colab": {}
      },
      "source": [
        "import findspark\n",
        "findspark.init()\n",
        "from pyspark.sql import SparkSession\n",
        "spark = SparkSession.builder.master(\"local[*]\").getOrCreate()"
      ],
      "execution_count": 0,
      "outputs": []
    },
    {
      "cell_type": "code",
      "metadata": {
        "id": "LiyMPRa_ut4R",
        "colab_type": "code",
        "colab": {}
      },
      "source": [
        "import sys,tempfile, urllib\n",
        "from pyspark.sql.functions import *"
      ],
      "execution_count": 0,
      "outputs": []
    },
    {
      "cell_type": "code",
      "metadata": {
        "id": "bJqal6jUu0KQ",
        "colab_type": "code",
        "colab": {}
      },
      "source": [
        "BASE_DIR = '/tmp'\n",
        "CORONA_DATA_FILE = os.path.join(BASE_DIR, 'corona_data.csv')"
      ],
      "execution_count": 0,
      "outputs": []
    },
    {
      "cell_type": "code",
      "metadata": {
        "id": "UBOux-w_u2lb",
        "colab_type": "code",
        "colab": {}
      },
      "source": [
        "corona_data=urllib.request.urlretrieve('https://raw.githubusercontent.com/srivatsan88/YouTubeLI/master/dataset/coronavirus/corona_dataset_latest.csv', CORONA_DATA_FILE)\n"
      ],
      "execution_count": 0,
      "outputs": []
    },
    {
      "cell_type": "code",
      "metadata": {
        "id": "qkEdXl9Iu6LU",
        "colab_type": "code",
        "colab": {
          "base_uri": "https://localhost:8080/",
          "height": 101
        },
        "outputId": "ac1ab7ac-5c1b-4174-a395-c30af6a81577"
      },
      "source": [
        "!ls /tmp"
      ],
      "execution_count": 9,
      "outputs": [
        {
          "output_type": "stream",
          "text": [
            "blockmgr-8dc7ef01-df9d-4a35-aab9-52c3a6ecb416\n",
            "corona_data.csv\n",
            "hsperfdata_root\n",
            "spark-7d0dad92-dfc3-427e-8bcb-c5a4663ac40f\n",
            "spark-bd6f3ac6-2597-4ed3-a51a-808971e7e9ef\n"
          ],
          "name": "stdout"
        }
      ]
    },
    {
      "cell_type": "code",
      "metadata": {
        "id": "YaURzioEu8vN",
        "colab_type": "code",
        "colab": {}
      },
      "source": [
        "corona_df = spark.read.option(\"inferSchema\", \"true\").csv(\"/tmp/corona_data.csv\", header=True)\n"
      ],
      "execution_count": 0,
      "outputs": []
    },
    {
      "cell_type": "code",
      "metadata": {
        "id": "VlW8uTZgu-mT",
        "colab_type": "code",
        "colab": {
          "base_uri": "https://localhost:8080/",
          "height": 454
        },
        "outputId": "fa56e404-f5e3-4a98-87d2-01ff4ecb286a"
      },
      "source": [
        "corona_df.show()\n"
      ],
      "execution_count": 11,
      "outputs": [
        {
          "output_type": "stream",
          "text": [
            "+---+----------------+--------------------+--------+---------+----------+---------+-----+---------+--------------------+----+\n",
            "|_c0|           State|             Country|     Lat|     Long|      Date|Confirmed|Death|Recovered|       state_cleaned|City|\n",
            "+---+----------------+--------------------+--------+---------+----------+---------+-----+---------+--------------------+----+\n",
            "|  0|            null|            Thailand|    15.0|    101.0|2020-01-22|        2|    0|        0|             Bangkok|null|\n",
            "|  1|            null|               Japan|    36.0|    138.0|2020-01-22|        2|    0|        0|             Hiraide|null|\n",
            "|  2|            null|           Singapore|  1.2833| 103.8333|2020-01-22|        0|    0|        0|           Singapore|null|\n",
            "|  3|            null|               Nepal| 28.1667|    84.25|2020-01-22|        0|    0|        0|           Kathmandu|null|\n",
            "|  4|            null|            Malaysia|     2.5|    112.5|2020-01-22|        0|    0|        0|             Sarawak|null|\n",
            "|  5|British Columbia|              Canada| 49.2827|-123.1207|2020-01-22|        0|    0|        0|    British Columbia|null|\n",
            "|  6| New South Wales|           Australia|-33.8688| 151.2093|2020-01-22|        0|    0|        0|     New South Wales|null|\n",
            "|  7|        Victoria|           Australia|-37.8136| 144.9631|2020-01-22|        0|    0|        0|            Victoria|null|\n",
            "|  8|      Queensland|           Australia|-28.0167|    153.4|2020-01-22|        0|    0|        0|          Queensland|null|\n",
            "|  9|            null|            Cambodia|   11.55| 104.9167|2020-01-22|        0|    0|        0|          Phnom Penh|null|\n",
            "| 10|            null|           Sri Lanka|     7.0|     81.0|2020-01-22|        0|    0|        0|Sri Jayawardenapu...|null|\n",
            "| 11|            null|             Germany|    51.0|      9.0|2020-01-22|        0|    0|        0|              Berlin|null|\n",
            "| 12|            null|             Finland|    64.0|     26.0|2020-01-22|        0|    0|        0|            Helsinki|null|\n",
            "| 13|            null|United Arab Emirates|    24.0|     54.0|2020-01-22|        0|    0|        0|           Abu Dhabi|null|\n",
            "| 14|            null|         Philippines|    13.0|    122.0|2020-01-22|        0|    0|        0|              Manila|null|\n",
            "| 15|            null|               India|    21.0|     78.0|2020-01-22|        0|    0|        0|           New Delhi|null|\n",
            "| 16|            null|               Italy|    43.0|     12.0|2020-01-22|        0|    0|        0|                Rome|null|\n",
            "| 17|            null|              Sweden|    63.0|     16.0|2020-01-22|        0|    0|        0|           Stockholm|null|\n",
            "| 18|            null|               Spain|    40.0|     -4.0|2020-01-22|        0|    0|        0|              Toledo|null|\n",
            "| 19| South Australia|           Australia|-34.9285| 138.6007|2020-01-22|        0|    0|        0|     South Australia|null|\n",
            "+---+----------------+--------------------+--------+---------+----------+---------+-----+---------+--------------------+----+\n",
            "only showing top 20 rows\n",
            "\n"
          ],
          "name": "stdout"
        }
      ]
    },
    {
      "cell_type": "code",
      "metadata": {
        "id": "sFQqkm54vCMa",
        "colab_type": "code",
        "colab": {
          "base_uri": "https://localhost:8080/",
          "height": 34
        },
        "outputId": "2ec87688-c6ab-4844-fec4-8c756a4c45fe"
      },
      "source": [
        "corona_df.count()\n"
      ],
      "execution_count": 12,
      "outputs": [
        {
          "output_type": "execute_result",
          "data": {
            "text/plain": [
              "28143"
            ]
          },
          "metadata": {
            "tags": []
          },
          "execution_count": 12
        }
      ]
    },
    {
      "cell_type": "code",
      "metadata": {
        "id": "BjfSTXGrvGZM",
        "colab_type": "code",
        "colab": {}
      },
      "source": [
        "import pyspark.sql.functions as F\n",
        "corona_max_df=corona_df.join(corona_df.groupBy(\"Country\",\"State_cleaned\").agg(F.max(\"Date\").alias(\"Date\")),on=['Country', 'State_cleaned','Date'],how=\"inner\")"
      ],
      "execution_count": 0,
      "outputs": []
    },
    {
      "cell_type": "code",
      "metadata": {
        "id": "18s-60hKvOrg",
        "colab_type": "code",
        "colab": {
          "base_uri": "https://localhost:8080/",
          "height": 454
        },
        "outputId": "e767cca3-68b8-43f6-eca0-7785d16c79de"
      },
      "source": [
        "corona_max_df.show()\n"
      ],
      "execution_count": 16,
      "outputs": [
        {
          "output_type": "stream",
          "text": [
            "+--------------------+--------------------+----------+-----+----------------+--------+---------+---------+-----+---------+----+\n",
            "|             Country|       state_cleaned|      Date|  _c0|           State|     Lat|     Long|Confirmed|Death|Recovered|City|\n",
            "+--------------------+--------------------+----------+-----+----------------+--------+---------+---------+-----+---------+----+\n",
            "|            Thailand|             Bangkok|2020-03-20|27666|            null|    15.0|    101.0|      322|    1|       42|null|\n",
            "|               Japan|             Hiraide|2020-03-20|27667|            null|    36.0|    138.0|      963|   33|      191|null|\n",
            "|           Singapore|           Singapore|2020-03-20|27668|            null|  1.2833| 103.8333|      385|    0|      124|null|\n",
            "|               Nepal|           Kathmandu|2020-03-20|27669|            null| 28.1667|    84.25|        1|    0|        1|null|\n",
            "|            Malaysia|             Sarawak|2020-03-20|27670|            null|     2.5|    112.5|     1030|    3|       87|null|\n",
            "|              Canada|    British Columbia|2020-03-20|27671|British Columbia| 49.2827|-123.1207|      271|    8|        4|null|\n",
            "|           Australia|     New South Wales|2020-03-20|27672| New South Wales|-33.8688| 151.2093|      353|    6|        4|null|\n",
            "|           Australia|            Victoria|2020-03-20|27673|        Victoria|-37.8136| 144.9631|      121|    0|        8|null|\n",
            "|           Australia|          Queensland|2020-03-20|27674|      Queensland|-28.0167|    153.4|      184|    0|        8|null|\n",
            "|            Cambodia|          Phnom Penh|2020-03-20|27675|            null|   11.55| 104.9167|       51|    0|        1|null|\n",
            "|           Sri Lanka|Sri Jayawardenapu...|2020-03-20|27676|            null|     7.0|     81.0|       73|    0|        3|null|\n",
            "|             Germany|              Berlin|2020-03-20|27677|            null|    51.0|      9.0|    19848|   67|      180|null|\n",
            "|             Finland|            Helsinki|2020-03-20|27678|            null|    64.0|     26.0|      450|    0|       10|null|\n",
            "|United Arab Emirates|           Abu Dhabi|2020-03-20|27679|            null|    24.0|     54.0|      140|    2|       31|null|\n",
            "|         Philippines|              Manila|2020-03-20|27680|            null|    13.0|    122.0|      230|   18|        8|null|\n",
            "|               India|           New Delhi|2020-03-20|27681|            null|    21.0|     78.0|      244|    5|       20|null|\n",
            "|               Italy|                Rome|2020-03-20|27682|            null|    43.0|     12.0|    47021| 4032|     4440|null|\n",
            "|              Sweden|           Stockholm|2020-03-20|27683|            null|    63.0|     16.0|     1639|   16|       16|null|\n",
            "|               Spain|              Toledo|2020-03-20|27684|            null|    40.0|     -4.0|    20410| 1043|     1588|null|\n",
            "|           Australia|     South Australia|2020-03-20|27685| South Australia|-34.9285| 138.6007|       50|    0|        3|null|\n",
            "+--------------------+--------------------+----------+-----+----------------+--------+---------+---------+-----+---------+----+\n",
            "only showing top 20 rows\n",
            "\n"
          ],
          "name": "stdout"
        }
      ]
    },
    {
      "cell_type": "code",
      "metadata": {
        "id": "gJMAz0lGvTRO",
        "colab_type": "code",
        "colab": {
          "base_uri": "https://localhost:8080/",
          "height": 134
        },
        "outputId": "f7f6d485-5c18-43c9-a5c6-8876b60b1013"
      },
      "source": [
        "corona_max_df.select(\"Country\",\"State_cleaned\",\"Confirmed\",\"Recovered\").filter(col(\"Country\").isin('Australia','China')).groupBy('Country').sum().show(100)\n"
      ],
      "execution_count": 17,
      "outputs": [
        {
          "output_type": "stream",
          "text": [
            "+---------+--------------+--------------+\n",
            "|  Country|sum(Confirmed)|sum(Recovered)|\n",
            "+---------+--------------+--------------+\n",
            "|Australia|           791|            26|\n",
            "|    China|         81250|         71266|\n",
            "+---------+--------------+--------------+\n",
            "\n"
          ],
          "name": "stdout"
        }
      ]
    },
    {
      "cell_type": "code",
      "metadata": {
        "id": "XU59tyw6vW7O",
        "colab_type": "code",
        "colab": {
          "base_uri": "https://localhost:8080/",
          "height": 151
        },
        "outputId": "b3efd32f-05f9-484c-a715-dbdf68a5cd66"
      },
      "source": [
        "corona_max_df.select(\"Country\",\"State_cleaned\",\"Confirmed\",\"Recovered\").filter(col(\"Country\").isin('Australia','China')).cube(\"Country\").sum().sort(asc(\"Country\")).show(100)\n"
      ],
      "execution_count": 18,
      "outputs": [
        {
          "output_type": "stream",
          "text": [
            "+---------+--------------+--------------+\n",
            "|  Country|sum(Confirmed)|sum(Recovered)|\n",
            "+---------+--------------+--------------+\n",
            "|     null|         82041|         71292|\n",
            "|Australia|           791|            26|\n",
            "|    China|         81250|         71266|\n",
            "+---------+--------------+--------------+\n",
            "\n"
          ],
          "name": "stdout"
        }
      ]
    },
    {
      "cell_type": "code",
      "metadata": {
        "id": "ufuCsUBmvbPt",
        "colab_type": "code",
        "colab": {
          "base_uri": "https://localhost:8080/",
          "height": 823
        },
        "outputId": "768321ae-cb6f-4339-d5d5-610a534d37b0"
      },
      "source": [
        "corona_max_df.select(\"Country\",\"State_cleaned\",\"Confirmed\",\"Recovered\").filter(col(\"Country\").isin('Australia','Canada')).cube(\"Country\",\"State_cleaned\").sum().sort(asc(\"Country\")).show(100)\n"
      ],
      "execution_count": 19,
      "outputs": [
        {
          "output_type": "stream",
          "text": [
            "+---------+--------------------+--------------+--------------+\n",
            "|  Country|       State_cleaned|sum(Confirmed)|sum(Recovered)|\n",
            "+---------+--------------------+--------------+--------------+\n",
            "|     null|            Tasmania|            10|             3|\n",
            "|     null|Prince Edward Island|             2|             0|\n",
            "|     null|   Western Australia|            64|             0|\n",
            "|     null|        Saskatchewan|            20|             0|\n",
            "|     null|      Grand Princess|            10|             0|\n",
            "|     null|From Diamond Prin...|             0|             0|\n",
            "|     null|          Queensland|           184|             8|\n",
            "|     null|    British Columbia|           271|             4|\n",
            "|     null|         Nova Scotia|            15|             0|\n",
            "|     null|             Ontario|           308|             5|\n",
            "|     null|Newfoundland and ...|             4|             0|\n",
            "|     null|            Manitoba|            17|             0|\n",
            "|     null|Australian Capita...|             6|             0|\n",
            "|     null|     New South Wales|           353|             4|\n",
            "|     null|             Alberta|           146|             0|\n",
            "|     null|     South Australia|            50|             3|\n",
            "|     null|                null|          1734|            35|\n",
            "|     null|            Victoria|           121|             8|\n",
            "|     null|       New Brunswick|            11|             0|\n",
            "|     null|              Quebec|           139|             0|\n",
            "|     null|  Northern Territory|             3|             0|\n",
            "|Australia|Australian Capita...|             6|             0|\n",
            "|Australia|  Northern Territory|             3|             0|\n",
            "|Australia|            Tasmania|            10|             3|\n",
            "|Australia|                null|           791|            26|\n",
            "|Australia|            Victoria|           121|             8|\n",
            "|Australia|     New South Wales|           353|             4|\n",
            "|Australia|     South Australia|            50|             3|\n",
            "|Australia|   Western Australia|            64|             0|\n",
            "|Australia|From Diamond Prin...|             0|             0|\n",
            "|Australia|          Queensland|           184|             8|\n",
            "|   Canada|        Saskatchewan|            20|             0|\n",
            "|   Canada|       New Brunswick|            11|             0|\n",
            "|   Canada|      Grand Princess|            10|             0|\n",
            "|   Canada|             Alberta|           146|             0|\n",
            "|   Canada|Newfoundland and ...|             4|             0|\n",
            "|   Canada|Prince Edward Island|             2|             0|\n",
            "|   Canada|    British Columbia|           271|             4|\n",
            "|   Canada|              Quebec|           139|             0|\n",
            "|   Canada|         Nova Scotia|            15|             0|\n",
            "|   Canada|            Manitoba|            17|             0|\n",
            "|   Canada|             Ontario|           308|             5|\n",
            "|   Canada|                null|           943|             9|\n",
            "+---------+--------------------+--------------+--------------+\n",
            "\n"
          ],
          "name": "stdout"
        }
      ]
    },
    {
      "cell_type": "code",
      "metadata": {
        "id": "a-y99tfXvkHB",
        "colab_type": "code",
        "colab": {
          "base_uri": "https://localhost:8080/",
          "height": 487
        },
        "outputId": "7fd146fe-e55a-4463-8218-b97831e86a26"
      },
      "source": [
        "corona_max_df.select(\"Country\",\"State_cleaned\",\"Confirmed\",\"Recovered\").filter(col(\"Country\").isin('Australia','Canada')).rollup(\"Country\",\"State_cleaned\").sum().sort(asc(\"Country\")).show(100)\n"
      ],
      "execution_count": 20,
      "outputs": [
        {
          "output_type": "stream",
          "text": [
            "+---------+--------------------+--------------+--------------+\n",
            "|  Country|       State_cleaned|sum(Confirmed)|sum(Recovered)|\n",
            "+---------+--------------------+--------------+--------------+\n",
            "|     null|                null|          1734|            35|\n",
            "|Australia|Australian Capita...|             6|             0|\n",
            "|Australia|  Northern Territory|             3|             0|\n",
            "|Australia|   Western Australia|            64|             0|\n",
            "|Australia|          Queensland|           184|             8|\n",
            "|Australia|                null|           791|            26|\n",
            "|Australia|            Tasmania|            10|             3|\n",
            "|Australia|From Diamond Prin...|             0|             0|\n",
            "|Australia|            Victoria|           121|             8|\n",
            "|Australia|     New South Wales|           353|             4|\n",
            "|Australia|     South Australia|            50|             3|\n",
            "|   Canada|       New Brunswick|            11|             0|\n",
            "|   Canada|        Saskatchewan|            20|             0|\n",
            "|   Canada|             Alberta|           146|             0|\n",
            "|   Canada|              Quebec|           139|             0|\n",
            "|   Canada|Newfoundland and ...|             4|             0|\n",
            "|   Canada|      Grand Princess|            10|             0|\n",
            "|   Canada|Prince Edward Island|             2|             0|\n",
            "|   Canada|         Nova Scotia|            15|             0|\n",
            "|   Canada|             Ontario|           308|             5|\n",
            "|   Canada|    British Columbia|           271|             4|\n",
            "|   Canada|            Manitoba|            17|             0|\n",
            "|   Canada|                null|           943|             9|\n",
            "+---------+--------------------+--------------+--------------+\n",
            "\n"
          ],
          "name": "stdout"
        }
      ]
    },
    {
      "cell_type": "code",
      "metadata": {
        "id": "5dFUgfN4vmM0",
        "colab_type": "code",
        "colab": {
          "base_uri": "https://localhost:8080/",
          "height": 34
        },
        "outputId": "c128cc42-3439-456c-d411-5a23ae7fe516"
      },
      "source": [
        "corona_max_df.corr('Confirmed','Recovered')\n"
      ],
      "execution_count": 21,
      "outputs": [
        {
          "output_type": "execute_result",
          "data": {
            "text/plain": [
              "0.8052934236742176"
            ]
          },
          "metadata": {
            "tags": []
          },
          "execution_count": 21
        }
      ]
    },
    {
      "cell_type": "code",
      "metadata": {
        "id": "mfIQvReFv3d2",
        "colab_type": "code",
        "colab": {
          "base_uri": "https://localhost:8080/",
          "height": 34
        },
        "outputId": "1372f7cb-a04b-4f69-a99d-46fe617ca63e"
      },
      "source": [
        "corona_max_df.cache()\n"
      ],
      "execution_count": 22,
      "outputs": [
        {
          "output_type": "execute_result",
          "data": {
            "text/plain": [
              "DataFrame[Country: string, state_cleaned: string, Date: string, _c0: int, State: string, Lat: double, Long: double, Confirmed: int, Death: int, Recovered: int, City: string]"
            ]
          },
          "metadata": {
            "tags": []
          },
          "execution_count": 22
        }
      ]
    },
    {
      "cell_type": "code",
      "metadata": {
        "id": "LUPe5X-0v7m6",
        "colab_type": "code",
        "colab": {
          "base_uri": "https://localhost:8080/",
          "height": 50
        },
        "outputId": "b54609b3-eaf9-4e72-8cb1-d936392e1a36"
      },
      "source": [
        "%timeit corona_max_df.count()\n"
      ],
      "execution_count": 23,
      "outputs": [
        {
          "output_type": "stream",
          "text": [
            "The slowest run took 14.21 times longer than the fastest. This could mean that an intermediate result is being cached.\n",
            "1 loop, best of 3: 63.8 ms per loop\n"
          ],
          "name": "stdout"
        }
      ]
    },
    {
      "cell_type": "code",
      "metadata": {
        "id": "egDgA9CKwDqa",
        "colab_type": "code",
        "colab": {
          "base_uri": "https://localhost:8080/",
          "height": 34
        },
        "outputId": "71e994af-6216-4b35-d3b0-99f6359f67c2"
      },
      "source": [
        "\n",
        "from pyspark import StorageLevel\n",
        "corona_max_df.persist(StorageLevel.MEMORY_AND_DISK)"
      ],
      "execution_count": 24,
      "outputs": [
        {
          "output_type": "execute_result",
          "data": {
            "text/plain": [
              "DataFrame[Country: string, state_cleaned: string, Date: string, _c0: int, State: string, Lat: double, Long: double, Confirmed: int, Death: int, Recovered: int, City: string]"
            ]
          },
          "metadata": {
            "tags": []
          },
          "execution_count": 24
        }
      ]
    },
    {
      "cell_type": "code",
      "metadata": {
        "id": "L5MpfZGMwHGt",
        "colab_type": "code",
        "colab": {
          "base_uri": "https://localhost:8080/",
          "height": 34
        },
        "outputId": "a676a907-9087-451a-ecf8-b36533c6b41a"
      },
      "source": [
        "%timeit corona_max_df.count()\n"
      ],
      "execution_count": 25,
      "outputs": [
        {
          "output_type": "stream",
          "text": [
            "10 loops, best of 3: 65.1 ms per loop\n"
          ],
          "name": "stdout"
        }
      ]
    },
    {
      "cell_type": "code",
      "metadata": {
        "id": "pZ-StOtDwK4y",
        "colab_type": "code",
        "colab": {}
      },
      "source": [
        "pd=corona_df.toPandas()\n"
      ],
      "execution_count": 0,
      "outputs": []
    },
    {
      "cell_type": "code",
      "metadata": {
        "id": "CIG5k0e-wO81",
        "colab_type": "code",
        "colab": {
          "base_uri": "https://localhost:8080/",
          "height": 225
        },
        "outputId": "3b9e056e-b40c-4955-e7ee-9948688e0b54"
      },
      "source": [
        "pd.corr()\n"
      ],
      "execution_count": 27,
      "outputs": [
        {
          "output_type": "execute_result",
          "data": {
            "text/html": [
              "<div>\n",
              "<style scoped>\n",
              "    .dataframe tbody tr th:only-of-type {\n",
              "        vertical-align: middle;\n",
              "    }\n",
              "\n",
              "    .dataframe tbody tr th {\n",
              "        vertical-align: top;\n",
              "    }\n",
              "\n",
              "    .dataframe thead th {\n",
              "        text-align: right;\n",
              "    }\n",
              "</style>\n",
              "<table border=\"1\" class=\"dataframe\">\n",
              "  <thead>\n",
              "    <tr style=\"text-align: right;\">\n",
              "      <th></th>\n",
              "      <th>_c0</th>\n",
              "      <th>Lat</th>\n",
              "      <th>Long</th>\n",
              "      <th>Confirmed</th>\n",
              "      <th>Death</th>\n",
              "      <th>Recovered</th>\n",
              "    </tr>\n",
              "  </thead>\n",
              "  <tbody>\n",
              "    <tr>\n",
              "      <th>_c0</th>\n",
              "      <td>1.000000</td>\n",
              "      <td>-0.001594</td>\n",
              "      <td>-0.005303</td>\n",
              "      <td>0.046789</td>\n",
              "      <td>0.043155</td>\n",
              "      <td>0.042857</td>\n",
              "    </tr>\n",
              "    <tr>\n",
              "      <th>Lat</th>\n",
              "      <td>-0.001594</td>\n",
              "      <td>1.000000</td>\n",
              "      <td>-0.383389</td>\n",
              "      <td>0.008531</td>\n",
              "      <td>0.007041</td>\n",
              "      <td>0.000778</td>\n",
              "    </tr>\n",
              "    <tr>\n",
              "      <th>Long</th>\n",
              "      <td>-0.005303</td>\n",
              "      <td>-0.383389</td>\n",
              "      <td>1.000000</td>\n",
              "      <td>0.098893</td>\n",
              "      <td>0.074918</td>\n",
              "      <td>0.079047</td>\n",
              "    </tr>\n",
              "    <tr>\n",
              "      <th>Confirmed</th>\n",
              "      <td>0.046789</td>\n",
              "      <td>0.008531</td>\n",
              "      <td>0.098893</td>\n",
              "      <td>1.000000</td>\n",
              "      <td>0.963376</td>\n",
              "      <td>0.853924</td>\n",
              "    </tr>\n",
              "    <tr>\n",
              "      <th>Death</th>\n",
              "      <td>0.043155</td>\n",
              "      <td>0.007041</td>\n",
              "      <td>0.074918</td>\n",
              "      <td>0.963376</td>\n",
              "      <td>1.000000</td>\n",
              "      <td>0.857292</td>\n",
              "    </tr>\n",
              "    <tr>\n",
              "      <th>Recovered</th>\n",
              "      <td>0.042857</td>\n",
              "      <td>0.000778</td>\n",
              "      <td>0.079047</td>\n",
              "      <td>0.853924</td>\n",
              "      <td>0.857292</td>\n",
              "      <td>1.000000</td>\n",
              "    </tr>\n",
              "  </tbody>\n",
              "</table>\n",
              "</div>"
            ],
            "text/plain": [
              "                _c0       Lat      Long  Confirmed     Death  Recovered\n",
              "_c0        1.000000 -0.001594 -0.005303   0.046789  0.043155   0.042857\n",
              "Lat       -0.001594  1.000000 -0.383389   0.008531  0.007041   0.000778\n",
              "Long      -0.005303 -0.383389  1.000000   0.098893  0.074918   0.079047\n",
              "Confirmed  0.046789  0.008531  0.098893   1.000000  0.963376   0.853924\n",
              "Death      0.043155  0.007041  0.074918   0.963376  1.000000   0.857292\n",
              "Recovered  0.042857  0.000778  0.079047   0.853924  0.857292   1.000000"
            ]
          },
          "metadata": {
            "tags": []
          },
          "execution_count": 27
        }
      ]
    },
    {
      "cell_type": "code",
      "metadata": {
        "id": "fa7Kx8hVwVRB",
        "colab_type": "code",
        "colab": {}
      },
      "source": [
        "corona_max_df.createOrReplaceTempView(\"corona\")\n"
      ],
      "execution_count": 0,
      "outputs": []
    },
    {
      "cell_type": "code",
      "metadata": {
        "id": "ob62ss51wfrE",
        "colab_type": "code",
        "colab": {
          "base_uri": "https://localhost:8080/",
          "height": 454
        },
        "outputId": "9984bd90-5ca3-49c5-fb4f-19bee59ab82e"
      },
      "source": [
        "spark.sql(\"select * from corona\").show()\n"
      ],
      "execution_count": 29,
      "outputs": [
        {
          "output_type": "stream",
          "text": [
            "+--------------------+--------------------+----------+-----+----------------+--------+---------+---------+-----+---------+----+\n",
            "|             Country|       state_cleaned|      Date|  _c0|           State|     Lat|     Long|Confirmed|Death|Recovered|City|\n",
            "+--------------------+--------------------+----------+-----+----------------+--------+---------+---------+-----+---------+----+\n",
            "|            Thailand|             Bangkok|2020-03-20|27666|            null|    15.0|    101.0|      322|    1|       42|null|\n",
            "|               Japan|             Hiraide|2020-03-20|27667|            null|    36.0|    138.0|      963|   33|      191|null|\n",
            "|           Singapore|           Singapore|2020-03-20|27668|            null|  1.2833| 103.8333|      385|    0|      124|null|\n",
            "|               Nepal|           Kathmandu|2020-03-20|27669|            null| 28.1667|    84.25|        1|    0|        1|null|\n",
            "|            Malaysia|             Sarawak|2020-03-20|27670|            null|     2.5|    112.5|     1030|    3|       87|null|\n",
            "|              Canada|    British Columbia|2020-03-20|27671|British Columbia| 49.2827|-123.1207|      271|    8|        4|null|\n",
            "|           Australia|     New South Wales|2020-03-20|27672| New South Wales|-33.8688| 151.2093|      353|    6|        4|null|\n",
            "|           Australia|            Victoria|2020-03-20|27673|        Victoria|-37.8136| 144.9631|      121|    0|        8|null|\n",
            "|           Australia|          Queensland|2020-03-20|27674|      Queensland|-28.0167|    153.4|      184|    0|        8|null|\n",
            "|            Cambodia|          Phnom Penh|2020-03-20|27675|            null|   11.55| 104.9167|       51|    0|        1|null|\n",
            "|           Sri Lanka|Sri Jayawardenapu...|2020-03-20|27676|            null|     7.0|     81.0|       73|    0|        3|null|\n",
            "|             Germany|              Berlin|2020-03-20|27677|            null|    51.0|      9.0|    19848|   67|      180|null|\n",
            "|             Finland|            Helsinki|2020-03-20|27678|            null|    64.0|     26.0|      450|    0|       10|null|\n",
            "|United Arab Emirates|           Abu Dhabi|2020-03-20|27679|            null|    24.0|     54.0|      140|    2|       31|null|\n",
            "|         Philippines|              Manila|2020-03-20|27680|            null|    13.0|    122.0|      230|   18|        8|null|\n",
            "|               India|           New Delhi|2020-03-20|27681|            null|    21.0|     78.0|      244|    5|       20|null|\n",
            "|               Italy|                Rome|2020-03-20|27682|            null|    43.0|     12.0|    47021| 4032|     4440|null|\n",
            "|              Sweden|           Stockholm|2020-03-20|27683|            null|    63.0|     16.0|     1639|   16|       16|null|\n",
            "|               Spain|              Toledo|2020-03-20|27684|            null|    40.0|     -4.0|    20410| 1043|     1588|null|\n",
            "|           Australia|     South Australia|2020-03-20|27685| South Australia|-34.9285| 138.6007|       50|    0|        3|null|\n",
            "+--------------------+--------------------+----------+-----+----------------+--------+---------+---------+-----+---------+----+\n",
            "only showing top 20 rows\n",
            "\n"
          ],
          "name": "stdout"
        }
      ]
    },
    {
      "cell_type": "code",
      "metadata": {
        "id": "VCGs0omcwjHM",
        "colab_type": "code",
        "colab": {
          "base_uri": "https://localhost:8080/",
          "height": 437
        },
        "outputId": "ec09048e-72cb-4623-e9d8-be2bfef6a706"
      },
      "source": [
        "spark.sql(\"select * from corona where Country in ('Australia','Canada') order by Country\").show()\n"
      ],
      "execution_count": 30,
      "outputs": [
        {
          "output_type": "stream",
          "text": [
            "+---------+--------------------+----------+-----+--------------------+------------------+---------+---------+-----+---------+----+\n",
            "|  Country|       state_cleaned|      Date|  _c0|               State|               Lat|     Long|Confirmed|Death|Recovered|City|\n",
            "+---------+--------------------+----------+-----+--------------------+------------------+---------+---------+-----+---------+----+\n",
            "|Australia|     New South Wales|2020-03-20|27672|     New South Wales|          -33.8688| 151.2093|      353|    6|        4|null|\n",
            "|Australia|            Victoria|2020-03-20|27673|            Victoria|          -37.8136| 144.9631|      121|    0|        8|null|\n",
            "|Australia|   Western Australia|2020-03-20|27715|   Western Australia|          -31.9505| 115.8605|       64|    1|        0|null|\n",
            "|Australia|          Queensland|2020-03-20|27674|          Queensland|          -28.0167|    153.4|      184|    0|        8|null|\n",
            "|Australia|            Tasmania|2020-03-20|27727|            Tasmania|          -41.4545| 145.9707|       10|    0|        3|null|\n",
            "|Australia|  Northern Territory|2020-03-20|27737|  Northern Territory|          -12.4634| 130.8456|        3|    0|        0|null|\n",
            "|Australia|     South Australia|2020-03-20|27685|     South Australia|          -34.9285| 138.6007|       50|    0|        3|null|\n",
            "|Australia|Australian Capita...|2020-03-20|28068|Australian Capita...|          -35.4735| 149.0124|        6|    0|        0|null|\n",
            "|Australia|From Diamond Prin...|2020-03-20|27688|From Diamond Prin...|           35.4437|  139.638|        0|    0|        0|null|\n",
            "|   Canada|    British Columbia|2020-03-20|27671|    British Columbia|           49.2827|-123.1207|      271|    8|        4|null|\n",
            "|   Canada|             Ontario|2020-03-20|27758|             Ontario|           51.2538| -85.3232|      308|    2|        5|null|\n",
            "|   Canada|             Alberta|2020-03-20|27759|             Alberta|           53.9333|-116.5765|      146|    1|        0|null|\n",
            "|   Canada|        Saskatchewan|2020-03-20|28073|        Saskatchewan|           52.9399|-106.4509|       20|    0|        0|null|\n",
            "|   Canada|         Nova Scotia|2020-03-20|28107|         Nova Scotia|44.681999999999995| -63.7443|       15|    0|        0|null|\n",
            "|   Canada|              Quebec|2020-03-20|27760|              Quebec|           52.9399| -73.5491|      139|    1|        0|null|\n",
            "|   Canada|       New Brunswick|2020-03-20|27867|       New Brunswick|           46.5653| -66.4619|       11|    0|        0|null|\n",
            "|   Canada|      Grand Princess|2020-03-20|28077|      Grand Princess|           37.6489|-122.6655|       10|    0|        0|null|\n",
            "|   Canada|Newfoundland and ...|2020-03-20|28099|Newfoundland and ...|           53.1355| -57.6604|        4|    0|        0|null|\n",
            "|   Canada|            Manitoba|2020-03-20|28072|            Manitoba|           53.7609| -98.8139|       17|    0|        0|null|\n",
            "|   Canada|Prince Edward Island|2020-03-20|28100|Prince Edward Island|           46.5107| -63.4168|        2|    0|        0|null|\n",
            "+---------+--------------------+----------+-----+--------------------+------------------+---------+---------+-----+---------+----+\n",
            "\n"
          ],
          "name": "stdout"
        }
      ]
    },
    {
      "cell_type": "code",
      "metadata": {
        "id": "xgF2r0riwy6O",
        "colab_type": "code",
        "colab": {
          "base_uri": "https://localhost:8080/",
          "height": 437
        },
        "outputId": "ef946128-2ae5-4ce3-e394-8443c0783670"
      },
      "source": [
        "spark.sql(\"select * from corona where Country in ('Australia','Canada') order by Country\").show()\n"
      ],
      "execution_count": 31,
      "outputs": [
        {
          "output_type": "stream",
          "text": [
            "+---------+--------------------+----------+-----+--------------------+------------------+---------+---------+-----+---------+----+\n",
            "|  Country|       state_cleaned|      Date|  _c0|               State|               Lat|     Long|Confirmed|Death|Recovered|City|\n",
            "+---------+--------------------+----------+-----+--------------------+------------------+---------+---------+-----+---------+----+\n",
            "|Australia|     New South Wales|2020-03-20|27672|     New South Wales|          -33.8688| 151.2093|      353|    6|        4|null|\n",
            "|Australia|            Victoria|2020-03-20|27673|            Victoria|          -37.8136| 144.9631|      121|    0|        8|null|\n",
            "|Australia|   Western Australia|2020-03-20|27715|   Western Australia|          -31.9505| 115.8605|       64|    1|        0|null|\n",
            "|Australia|          Queensland|2020-03-20|27674|          Queensland|          -28.0167|    153.4|      184|    0|        8|null|\n",
            "|Australia|            Tasmania|2020-03-20|27727|            Tasmania|          -41.4545| 145.9707|       10|    0|        3|null|\n",
            "|Australia|  Northern Territory|2020-03-20|27737|  Northern Territory|          -12.4634| 130.8456|        3|    0|        0|null|\n",
            "|Australia|     South Australia|2020-03-20|27685|     South Australia|          -34.9285| 138.6007|       50|    0|        3|null|\n",
            "|Australia|Australian Capita...|2020-03-20|28068|Australian Capita...|          -35.4735| 149.0124|        6|    0|        0|null|\n",
            "|Australia|From Diamond Prin...|2020-03-20|27688|From Diamond Prin...|           35.4437|  139.638|        0|    0|        0|null|\n",
            "|   Canada|    British Columbia|2020-03-20|27671|    British Columbia|           49.2827|-123.1207|      271|    8|        4|null|\n",
            "|   Canada|             Ontario|2020-03-20|27758|             Ontario|           51.2538| -85.3232|      308|    2|        5|null|\n",
            "|   Canada|             Alberta|2020-03-20|27759|             Alberta|           53.9333|-116.5765|      146|    1|        0|null|\n",
            "|   Canada|        Saskatchewan|2020-03-20|28073|        Saskatchewan|           52.9399|-106.4509|       20|    0|        0|null|\n",
            "|   Canada|         Nova Scotia|2020-03-20|28107|         Nova Scotia|44.681999999999995| -63.7443|       15|    0|        0|null|\n",
            "|   Canada|              Quebec|2020-03-20|27760|              Quebec|           52.9399| -73.5491|      139|    1|        0|null|\n",
            "|   Canada|       New Brunswick|2020-03-20|27867|       New Brunswick|           46.5653| -66.4619|       11|    0|        0|null|\n",
            "|   Canada|      Grand Princess|2020-03-20|28077|      Grand Princess|           37.6489|-122.6655|       10|    0|        0|null|\n",
            "|   Canada|Newfoundland and ...|2020-03-20|28099|Newfoundland and ...|           53.1355| -57.6604|        4|    0|        0|null|\n",
            "|   Canada|            Manitoba|2020-03-20|28072|            Manitoba|           53.7609| -98.8139|       17|    0|        0|null|\n",
            "|   Canada|Prince Edward Island|2020-03-20|28100|Prince Edward Island|           46.5107| -63.4168|        2|    0|        0|null|\n",
            "+---------+--------------------+----------+-----+--------------------+------------------+---------+---------+-----+---------+----+\n",
            "\n"
          ],
          "name": "stdout"
        }
      ]
    },
    {
      "cell_type": "code",
      "metadata": {
        "id": "pf_6wAHDw19b",
        "colab_type": "code",
        "colab": {
          "base_uri": "https://localhost:8080/",
          "height": 454
        },
        "outputId": "d53c9315-dfda-4684-eb88-1898f7096f43"
      },
      "source": [
        "spark.sql(\"select Country, State_cleaned, SUM(Confirmed), SUM(Recovered) from corona where Country in ('Australia','Canada') GROUP BY ROLLUP (Country, State_cleaned) order by Country\").show()\n"
      ],
      "execution_count": 32,
      "outputs": [
        {
          "output_type": "stream",
          "text": [
            "+---------+--------------------+--------------+--------------+\n",
            "|  Country|       State_cleaned|sum(Confirmed)|sum(Recovered)|\n",
            "+---------+--------------------+--------------+--------------+\n",
            "|     null|                null|          1734|            35|\n",
            "|Australia|  Northern Territory|             3|             0|\n",
            "|Australia|     New South Wales|           353|             4|\n",
            "|Australia|          Queensland|           184|             8|\n",
            "|Australia|   Western Australia|            64|             0|\n",
            "|Australia|Australian Capita...|             6|             0|\n",
            "|Australia|            Tasmania|            10|             3|\n",
            "|Australia|            Victoria|           121|             8|\n",
            "|Australia|                null|           791|            26|\n",
            "|Australia|From Diamond Prin...|             0|             0|\n",
            "|Australia|     South Australia|            50|             3|\n",
            "|   Canada|            Manitoba|            17|             0|\n",
            "|   Canada|       New Brunswick|            11|             0|\n",
            "|   Canada|      Grand Princess|            10|             0|\n",
            "|   Canada|             Alberta|           146|             0|\n",
            "|   Canada|Newfoundland and ...|             4|             0|\n",
            "|   Canada|Prince Edward Island|             2|             0|\n",
            "|   Canada|    British Columbia|           271|             4|\n",
            "|   Canada|             Ontario|           308|             5|\n",
            "|   Canada|              Quebec|           139|             0|\n",
            "+---------+--------------------+--------------+--------------+\n",
            "only showing top 20 rows\n",
            "\n"
          ],
          "name": "stdout"
        }
      ]
    },
    {
      "cell_type": "code",
      "metadata": {
        "id": "Bawzxb2zw2wx",
        "colab_type": "code",
        "colab": {
          "base_uri": "https://localhost:8080/",
          "height": 454
        },
        "outputId": "d55d70a4-13a5-4f15-dad4-5978d66be592"
      },
      "source": [
        "spark.sql(\"select Country, State_cleaned, SUM(Confirmed), SUM(Recovered) from corona where Country in ('Australia','Canada') GROUP BY CUBE (Country, State_cleaned) order by Country\").show()\n"
      ],
      "execution_count": 33,
      "outputs": [
        {
          "output_type": "stream",
          "text": [
            "+-------+--------------------+--------------+--------------+\n",
            "|Country|       State_cleaned|sum(Confirmed)|sum(Recovered)|\n",
            "+-------+--------------------+--------------+--------------+\n",
            "|   null|            Victoria|           121|             8|\n",
            "|   null|     New South Wales|           353|             4|\n",
            "|   null|       New Brunswick|            11|             0|\n",
            "|   null|         Nova Scotia|            15|             0|\n",
            "|   null|Australian Capita...|             6|             0|\n",
            "|   null|          Queensland|           184|             8|\n",
            "|   null|     South Australia|            50|             3|\n",
            "|   null|  Northern Territory|             3|             0|\n",
            "|   null|        Saskatchewan|            20|             0|\n",
            "|   null|Newfoundland and ...|             4|             0|\n",
            "|   null|                null|          1734|            35|\n",
            "|   null|            Tasmania|            10|             3|\n",
            "|   null|    British Columbia|           271|             4|\n",
            "|   null|      Grand Princess|            10|             0|\n",
            "|   null|From Diamond Prin...|             0|             0|\n",
            "|   null|            Manitoba|            17|             0|\n",
            "|   null|             Alberta|           146|             0|\n",
            "|   null|             Ontario|           308|             5|\n",
            "|   null|Prince Edward Island|             2|             0|\n",
            "|   null|   Western Australia|            64|             0|\n",
            "+-------+--------------------+--------------+--------------+\n",
            "only showing top 20 rows\n",
            "\n"
          ],
          "name": "stdout"
        }
      ]
    },
    {
      "cell_type": "code",
      "metadata": {
        "id": "hriuVZU2xFNA",
        "colab_type": "code",
        "colab": {}
      },
      "source": [
        ""
      ],
      "execution_count": 0,
      "outputs": []
    }
  ]
}